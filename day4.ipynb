{
 "cells": [
  {
   "cell_type": "code",
   "execution_count": 13,
   "id": "efbb752a-7e19-465f-81e2-93d539ee1957",
   "metadata": {},
   "outputs": [
    {
     "name": "stdout",
     "output_type": "stream",
     "text": [
      "20\n",
      "21\n",
      "22\n",
      "23\n",
      "24\n",
      "25\n",
      "26\n",
      "27\n"
     ]
    }
   ],
   "source": [
    "i=20\n",
    "while i<31:\n",
    " print(i)\n",
    "    \n",
    " if i==27:\n",
    "    break\n",
    " i+=1    \n",
    "    \n",
    "    \n"
   ]
  },
  {
   "cell_type": "code",
   "execution_count": 15,
   "id": "d4bc41dd-57a2-469f-a051-60bfd197296c",
   "metadata": {},
   "outputs": [
    {
     "name": "stdin",
     "output_type": "stream",
     "text": [
      " venkata sai\n"
     ]
    },
    {
     "name": "stdout",
     "output_type": "stream",
     "text": [
      "{'k', ' ', 'e', 's', 'i', 'n', 'a', 't', 'v'}\n"
     ]
    }
   ],
   "source": [
    "n=set(input())\n",
    "print(n)"
   ]
  },
  {
   "cell_type": "code",
   "execution_count": 16,
   "id": "fa9a4cbb-2755-43df-99a9-e5aaab5fda77",
   "metadata": {},
   "outputs": [
    {
     "name": "stdin",
     "output_type": "stream",
     "text": [
      " hello world\n"
     ]
    },
    {
     "name": "stdout",
     "output_type": "stream",
     "text": [
      "{'w', ' ', 'l', 'e', 'r', 'h', 'o', 'd'}\n"
     ]
    }
   ],
   "source": [
    "s1= set(input())\n",
    "print(s1)\n"
   ]
  },
  {
   "cell_type": "code",
   "execution_count": 80,
   "id": "94977385-d6cd-4b0d-bdea-c0eba033ca50",
   "metadata": {},
   "outputs": [
    {
     "name": "stdin",
     "output_type": "stream",
     "text": [
      " 8\n"
     ]
    },
    {
     "name": "stdout",
     "output_type": "stream",
     "text": [
      "       * \n",
      "      * * \n",
      "     * * * \n",
      "    * * * * \n",
      "   * * * * * \n",
      "  * * * * * * \n",
      " * * * * * * * \n",
      "* * * * * * * * \n",
      " * * * * * * * \n",
      "  * * * * * * \n",
      "   * * * * * \n",
      "    * * * * \n",
      "     * * * \n",
      "      * * \n",
      "       * \n"
     ]
    }
   ],
   "source": [
    "n=int(input())\n",
    "for i in range(0, n):\n",
    "    for j in range(0, n-i-1):\n",
    "        print(\" \", end=\"\")\n",
    "    for j in range(0, i+1):\n",
    "        print(\"* \", end=\"\")\n",
    "    print()    \n",
    "for i in range(0, i):\n",
    "    for j in range(0, i+1):\n",
    "        print(\" \", end=\"\")\n",
    "    for j in range(0, n-i-1):\n",
    "        print(\"* \", end=\"\")\n",
    "    print()    "
   ]
  },
  {
   "cell_type": "code",
   "execution_count": 42,
   "id": "b33fb9e8-ec37-4b2b-9ada-d6bfb5780e9e",
   "metadata": {},
   "outputs": [
    {
     "name": "stdin",
     "output_type": "stream",
     "text": [
      " 8\n"
     ]
    },
    {
     "name": "stdout",
     "output_type": "stream",
     "text": [
      "*               \n",
      "* *             \n",
      "*   *           \n",
      "*     *         \n",
      "*       *       \n",
      "*         *     \n",
      "*           *   \n",
      "* * * * * * * * \n"
     ]
    }
   ],
   "source": [
    "n=int(input())\n",
    "for i in range(0, n):\n",
    "    for j in range(0, n):\n",
    "     if j==0 or i==n-1 or i==j:\n",
    "         print(\"*\", end=\" \")\n",
    "     else:\n",
    "         print(\" \",end=\" \")\n",
    "    \n",
    "   # for j in range(0,1):\n",
    "    #    print(\"* \", end=\"\") \n",
    "    #for j in range(0, i):\n",
    "      #  print(\" \", end=\"\")   \n",
    "    #for j in range(0,1):\n",
    "     #   print(\"*\", end=\"\")\n",
    "    #for j in range(0, i+2,):\n",
    "     #   print(\"* \", end=\"\")\n",
    "\n",
    "    print()    "
   ]
  },
  {
   "cell_type": "code",
   "execution_count": 51,
   "id": "b01d8768-32a5-4255-9cf4-42178fe706ac",
   "metadata": {},
   "outputs": [
    {
     "name": "stdin",
     "output_type": "stream",
     "text": [
      " 8\n"
     ]
    },
    {
     "name": "stdout",
     "output_type": "stream",
     "text": [
      "* * * * * * * * \n",
      "* * * * * * * \n",
      "* * * * * * \n",
      "* * * * * \n",
      "* * * * \n",
      "* * * \n",
      "* * \n",
      "* \n"
     ]
    }
   ],
   "source": [
    "n=int(input())\n",
    "for i in range(0, n):\n",
    "    for j in range(0, n-i):\n",
    "         print(\"*\", end=\" \")\n",
    "    print()   "
   ]
  },
  {
   "cell_type": "code",
   "execution_count": 82,
   "id": "40e24edb-32ed-42bf-8976-dddd75f1c8f1",
   "metadata": {},
   "outputs": [
    {
     "name": "stdin",
     "output_type": "stream",
     "text": [
      " 8\n"
     ]
    },
    {
     "name": "stdout",
     "output_type": "stream",
     "text": [
      "       * \n",
      "      * * \n",
      "     * * * \n",
      "    * * * * \n",
      "   * * * * * \n",
      "  * * * * * * \n",
      " * * * * * * * \n",
      "* * * * * * * * \n"
     ]
    }
   ],
   "source": [
    "n=int(input())\n",
    "for i in range(0, n):\n",
    "    for j in range(0, n-i-1):\n",
    "        print(\" \",end=\"\")\n",
    "    for j in range(0, i+1):\n",
    "        print(\"* \", end=\"\")\n",
    "         \n",
    "    print()     "
   ]
  },
  {
   "cell_type": "code",
   "execution_count": 114,
   "id": "06084706-ac6a-4125-b90f-838b6c001bdd",
   "metadata": {},
   "outputs": [
    {
     "name": "stdin",
     "output_type": "stream",
     "text": [
      " 8\n"
     ]
    },
    {
     "name": "stdout",
     "output_type": "stream",
     "text": [
      "* * * * * * * * \n",
      "    *           \n",
      "      *         \n",
      "        *       \n",
      "          *     \n",
      "            *   \n",
      "              * \n",
      "* * * * * * * * \n"
     ]
    }
   ],
   "source": [
    "n=int(input())\n",
    "for i in range(0, n):\n",
    "    for j in range(0, n):\n",
    "      if  i==n-1 or i==0 or i==j-1:\n",
    "         print(\"* \", end=\"\")\n",
    "      else:\n",
    "         print(\" \",end=\" \")\n",
    "    print()    "
   ]
  },
  {
   "cell_type": "code",
   "execution_count": 141,
   "id": "a3eb3f50-a9dd-4c07-8014-606ee82e1bf8",
   "metadata": {},
   "outputs": [
    {
     "name": "stdin",
     "output_type": "stream",
     "text": [
      " 8\n"
     ]
    },
    {
     "name": "stdout",
     "output_type": "stream",
     "text": [
      "*                                                                                                                                                                                                                                               \n",
      "* *                                                                                                                                                                                                                                             \n",
      "*   *                                                                                                                                                                                                                                           \n",
      "*     *                                                                                                                                                                                                                                         \n",
      "*       *                                                                                                                                                                                                                                       \n",
      "*         *                                                                                                                                                                                                                                     \n",
      "*           *                                                                                                                                                                                                                                   \n",
      "*             *                                                                                                                                                                                                                                 \n"
     ]
    }
   ],
   "source": [
    "n=int(input())\n",
    "for i in range(0, n):\n",
    "    for j in range(0, 120):\n",
    "      if i==j or j==0 :\n",
    "         print(\"*\", end=\" \")\n",
    "      else:\n",
    "         print(\" \",end=\" \")\n",
    "    print()    "
   ]
  },
  {
   "cell_type": "code",
   "execution_count": 147,
   "id": "3ef461b3-f66c-4ee1-9259-82781e549546",
   "metadata": {},
   "outputs": [
    {
     "name": "stdout",
     "output_type": "stream",
     "text": [
      "1\n",
      "7.89\n",
      "i\n",
      "i\n",
      "7.8\n",
      "4\n",
      "[1, 4, 1, 7.89]\n",
      "[1, 4, 1, 7.89]\n"
     ]
    }
   ],
   "source": [
    "'''\n",
    "list ---> if the collection of elements are sourendded by square brackets, it is considerd to be list\n",
    "eg:\n",
    "l1= [4, 7, 9, 9.89, \"hello\", 7+9j, [8, 9, 10]]\n",
    "\n",
    "list have to sourendded by []\n",
    "it is mutable ( that is the elements are changeble)\n",
    "every element inside list is indexed\n",
    "the elements inside list will be ordered format\n",
    "it can hold duplicate values\n",
    "its heterogeneous \n",
    "\n",
    "indexing \n",
    "it is collection of data types like list, tuple, str, the elements will be alloted with pre defined unique value called index value\n",
    "we have 2 types of indexing \n",
    "postive indexing ---> starts with 0 from left hand side\n",
    "negative indexing---> starts with -1 from right hand side\n",
    "\n",
    "positive indexing\n",
    "'''\n",
    "l1= [1, 4, 1, 7.89, 7.8, \"p\", \"i\"]\n",
    "print(l1[0])\n",
    "print(l1[3])\n",
    "print(l1[6])\n",
    "\n",
    "\n",
    "#------> negative indexing\n",
    "l1= [1, 4, 1, 7.89, 7.8, \"p\", \"i\"]\n",
    "print(l1[-1])\n",
    "print(l1[-3])\n",
    "print(l1[-6])\n",
    "\n",
    "#------> slicing\n",
    "\n",
    "l1= [1, 4, 1, 7.89, 7.8, \"p\", \"i\"]\n",
    "print(l1[0:4])\n",
    "print(l1[0:4:1])"
   ]
  },
  {
   "cell_type": "code",
   "execution_count": null,
   "id": "182b1572-2a08-414b-a503-232d146b965d",
   "metadata": {},
   "outputs": [],
   "source": []
  }
 ],
 "metadata": {
  "kernelspec": {
   "display_name": "Python 3 (ipykernel)",
   "language": "python",
   "name": "python3"
  },
  "language_info": {
   "codemirror_mode": {
    "name": "ipython",
    "version": 3
   },
   "file_extension": ".py",
   "mimetype": "text/x-python",
   "name": "python",
   "nbconvert_exporter": "python",
   "pygments_lexer": "ipython3",
   "version": "3.11.7"
  }
 },
 "nbformat": 4,
 "nbformat_minor": 5
}
